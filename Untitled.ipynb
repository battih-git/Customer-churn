{
 "cells": [
  {
   "cell_type": "code",
   "execution_count": 1,
   "id": "95514458",
   "metadata": {},
   "outputs": [],
   "source": [
    "# Import basic libraries\n",
    "import pandas as pd\n",
    "import numpy as np\n",
    "import matplotlib.pyplot as plt\n",
    "import seaborn as sns\n",
    "import plotly.express as px\n",
    "%matplotlib inline\n",
    "sns.set()\n",
    "import os, zipfile, sys"
   ]
  },
  {
   "cell_type": "code",
   "execution_count": 4,
   "id": "36db3204",
   "metadata": {},
   "outputs": [],
   "source": [
    "# Unzip the file\n",
    "file_path = r'archive(26).zip'\n",
    "path = 'C:/Users/91866/OneDrive/Desktop/ML practice models/Customer_churn_analysis/Customer-churn'\n",
    "with zipfile.ZipFile(file_path) as zip_file:\n",
    "    zip_file.extractall(path)"
   ]
  },
  {
   "cell_type": "code",
   "execution_count": 5,
   "id": "55d13e83",
   "metadata": {},
   "outputs": [],
   "source": [
    "df = pd.read_csv('Churn_Modelling.csv')"
   ]
  },
  {
   "cell_type": "code",
   "execution_count": null,
   "id": "8fc58efc",
   "metadata": {},
   "outputs": [],
   "source": []
  }
 ],
 "metadata": {
  "kernelspec": {
   "display_name": "Python 3 (ipykernel)",
   "language": "python",
   "name": "python3"
  },
  "language_info": {
   "codemirror_mode": {
    "name": "ipython",
    "version": 3
   },
   "file_extension": ".py",
   "mimetype": "text/x-python",
   "name": "python",
   "nbconvert_exporter": "python",
   "pygments_lexer": "ipython3",
   "version": "3.10.9"
  }
 },
 "nbformat": 4,
 "nbformat_minor": 5
}
